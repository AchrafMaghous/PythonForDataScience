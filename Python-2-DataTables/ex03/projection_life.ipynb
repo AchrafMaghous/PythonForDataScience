{
 "cells": [
  {
   "cell_type": "code",
   "execution_count": 1,
   "metadata": {},
   "outputs": [],
   "source": [
    "import pandas as pd\n",
    "from pandas import DataFrame\n",
    "\n",
    "def load(path: str) -> DataFrame:\n",
    "    \"\"\"\n",
    "    @param path: str\n",
    "    @return: DataFrame\n",
    "\n",
    "    @description: Load and print the dimensions of the dataset from the given path.\n",
    "    \"\"\"\n",
    "    try:\n",
    "        if isinstance(path, str) == False:\n",
    "            raise ValueError(\"Path is not a string\")\n",
    "        if path[-4:] != \".csv\":\n",
    "            raise ValueError(\"Path is not a .csv file\")\n",
    "        df = pd.read_csv(path)\n",
    "        print(\"Loading dataset of dimensions\", df.shape)\n",
    "        return df\n",
    "    except:\n",
    "        print(\"Error loading dataset\")\n",
    "        return None"
   ]
  },
  {
   "cell_type": "code",
   "execution_count": 5,
   "metadata": {},
   "outputs": [
    {
     "name": "stdout",
     "output_type": "stream",
     "text": [
      "Loading dataset of dimensions (195, 302)\n",
      "Loading dataset of dimensions (195, 252)\n",
      "Error displaying projection 'year'\n"
     ]
    }
   ],
   "source": [
    "from load_csv import load\n",
    "from pandas import DataFrame\n",
    "import matplotlib.pyplot as plt\n",
    "\n",
    "def projection_life_in_relation_to_gdp(life_expectancy, inc_per_person_gdp_inflation):\n",
    "    \"\"\"\n",
    "    @param life_expectancy: DataFrame\n",
    "    @param inc_per_person_gdp_inflation: DataFrame\n",
    "\n",
    "    @description: displays the projection of life expectancy in relation to the gross national product of the year 1900 for each country.\n",
    "    \"\"\"\n",
    "    try:\n",
    "        if isinstance(life_expectancy, DataFrame) == False:\n",
    "            raise ValueError(\"Life expectancy is not a DataFrame\")\n",
    "        if isinstance(inc_per_person_gdp_inflation, DataFrame) == False:\n",
    "            raise ValueError(\"GDP is not a DataFrame\")\n",
    "        if life_expectancy.shape[0] != inc_per_person_gdp_inflation.shape[0]:\n",
    "            raise ValueError(\"The number of countries in the datasets do not match\")\n",
    "        life_expectancy = life_expectancy.dropna()\n",
    "        inc_per_person_gdp_inflation = inc_per_person_gdp_inflation.dropna()\n",
    "        years = life_expectancy.columns[1:]\n",
    "        life_expectancy = pd.melt(life_expectancy, id_vars=[\"country\"], value_vars=years, var_name=\"year\", value_name=\"life_expectancy\")\n",
    "        inc_per_person_gdp_inflation = inc_per_person_gdp_inflation[inc_per_person_gdp_inflation[\"year\"] == 1900]\n",
    "        life_expectancy = life_expectancy[[\"country\", \"life_expectancy\"]]\n",
    "        inc_per_person_gdp_inflation = inc_per_person_gdp_inflation[[\"country\", \"gdpPercap_1900\"]]\n",
    "        df = life_expectancy.merge(inc_per_person_gdp_inflation, on=\"country\")\n",
    "        plt.scatter(df[\"gdpPercap_1900\"], df[\"life_expectancy\"])\n",
    "        plt.xlabel(\"GDP per capita in 1900\")\n",
    "        plt.ylabel(\"Life expectancy in 1900\")\n",
    "        plt.show()\n",
    "    except ValueError as ve:\n",
    "        print(ve)\n",
    "    except Exception as e:\n",
    "        print(\"Error displaying projection\", e)\n",
    "\n",
    "\n",
    "def main():\n",
    "    life_expectancy = load(\"life_expectancy_years.csv\")\n",
    "    inc_per_person_gdp_inflation = load(\"income_per_person_gdppercapita_ppp_inflation_adjusted.csv\")\n",
    "    projection_life_in_relation_to_gdp(life_expectancy, inc_per_person_gdp_inflation)\n",
    "\n",
    "\n",
    "if __name__ == \"__main__\":\n",
    "    main()"
   ]
  }
 ],
 "metadata": {
  "kernelspec": {
   "display_name": "venv",
   "language": "python",
   "name": "python3"
  },
  "language_info": {
   "codemirror_mode": {
    "name": "ipython",
    "version": 3
   },
   "file_extension": ".py",
   "mimetype": "text/x-python",
   "name": "python",
   "nbconvert_exporter": "python",
   "pygments_lexer": "ipython3",
   "version": "3.10.0"
  }
 },
 "nbformat": 4,
 "nbformat_minor": 2
}
